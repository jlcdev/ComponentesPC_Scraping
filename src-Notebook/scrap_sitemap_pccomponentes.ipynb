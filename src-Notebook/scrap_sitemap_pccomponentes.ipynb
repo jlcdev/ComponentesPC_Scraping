{
 "cells": [
  {
   "cell_type": "code",
   "execution_count": 1,
   "metadata": {},
   "outputs": [],
   "source": [
    "from bs4 import BeautifulSoup\n",
    "from selenium import webdriver\n",
    "from os.path  import basename\n",
    "import time\n",
    "import csv\n",
    "import requests\n",
    "import os\n",
    "import glob\n",
    "import pandas as pd"
   ]
  },
  {
   "cell_type": "markdown",
   "metadata": {},
   "source": [
    "## Constantes"
   ]
  },
  {
   "cell_type": "code",
   "execution_count": 4,
   "metadata": {},
   "outputs": [],
   "source": [
    "SLEEP_TIME_BASE = 0.1"
   ]
  },
  {
   "cell_type": "markdown",
   "metadata": {},
   "source": [
    "## Funciones"
   ]
  },
  {
   "cell_type": "code",
   "execution_count": 5,
   "metadata": {},
   "outputs": [],
   "source": [
    "# Preparación del navegador y aceptación de politica de cookies\n",
    "def prepare_environtment(driver, url):\n",
    "    driver.implicitly_wait(SLEEP_TIME_BASE * 60)\n",
    "    driver.get(url)\n",
    "    time.sleep(SLEEP_TIME_BASE * 4)\n",
    "    driver.find_elements_by_class_name(\"accept-cookie\")[0].click()"
   ]
  },
  {
   "cell_type": "code",
   "execution_count": 6,
   "metadata": {},
   "outputs": [],
   "source": [
    "# Permite cambiar la URL del navegador y obtener una nueva pagina para parsear\n",
    "def change_url(driver, url):\n",
    "    driver.get(url)\n",
    "    time.sleep(SLEEP_TIME_BASE)\n",
    "    return BeautifulSoup(driver.page_source,\"html5lib\")"
   ]
  },
  {
   "cell_type": "code",
   "execution_count": 57,
   "metadata": {},
   "outputs": [],
   "source": [
    "# Dado una pagina de producto -> obtener todas las características que consideramos relevantes\n",
    "def get_product_detail_info(page):\n",
    "    product = {}\n",
    "    product['timestamp'] = time.time()\n",
    "    product['company_name'] = 'pccomponentes'\n",
    "    product['name'] = page.find(\"div\", class_=\"ficha-producto__encabezado\").find(\"div\", class_=\"articulo\").h1.strong.text\n",
    "    try:\n",
    "        product['brand_name'] = page.find(\"div\", class_=\"ficha-producto__datos-de-compra\").a.text\n",
    "    except:\n",
    "        product['brand_name'] = 'undefined'\n",
    "    product['category'] = page.find(\"div\", class_=\"navegacion-secundaria__migas-de-pan\").findAll(\"a\")[-1].text\n",
    "    product['product_number'] = page.find(\"span\", id=\"codigo-articulo-pc\").parent.find(\"span\").text\n",
    "    product['price'] = float(page.find(\"div\", class_=\"ficha-producto__encabezado\").find(\"div\", class_=\"priceBlock\")['data-baseprice'])\n",
    "    try:\n",
    "        product['score'] = float(page.find(\"div\", id=\"ficha-producto-opinones\").find(\"div\", class_=\"percentage\").text)\n",
    "    except:\n",
    "        product['score'] = 0\n",
    "    try:\n",
    "        product['image_url'] = 'https:' + page.find(\"img\", class_=\"pc-com-zoom\")['src']\n",
    "    except:\n",
    "        product['image_url'] = 'undefined'\n",
    "    try:\n",
    "        product['reviews'] = int(page.find(\"div\", class_=\"ficha-producto__encabezado\").find(\"span\", class_=\"acciones\").a.text.replace(' Opiniones', '').replace('\\n',''))\n",
    "    except:\n",
    "        product['reviews'] = 0\n",
    "    return product"
   ]
  },
  {
   "cell_type": "code",
   "execution_count": 58,
   "metadata": {},
   "outputs": [],
   "source": [
    "# Permite recorrer todas las url de productos y ir obteniendo sus características\n",
    "def obtain_all_products(driver, urls):\n",
    "    products = []\n",
    "    for i, url in enumerate(urls):\n",
    "        page = change_url(driver, url)\n",
    "        product = get_product_detail_info(page)\n",
    "        products.append(product)\n",
    "        if i % 50 == 0:\n",
    "            print(i)\n",
    "    return products"
   ]
  },
  {
   "cell_type": "code",
   "execution_count": 56,
   "metadata": {},
   "outputs": [],
   "source": [
    "# Filtrar los productos por las categorias del dataset\n",
    "def filter_products_by_categories(products):\n",
    "    products_filtered = []\n",
    "    selected_categories = ['Procesadores', 'Discos Duros', 'Fuentes Alimentación', 'Memoria RAM', 'Placas Base', 'Tarjetas de Sonido', 'Tarjetas Gráficas', 'Torres']\n",
    "    for product in products:\n",
    "        if product['category'] in selected_categories:\n",
    "            products_filtered.append(product)\n",
    "    return products_filtered"
   ]
  },
  {
   "cell_type": "code",
   "execution_count": 9,
   "metadata": {},
   "outputs": [],
   "source": [
    "# Función para obtener 1 imagen\n",
    "def download_image(category, image_url):\n",
    "    try:\n",
    "        os.makedirs(os.path.join('.','images', category))\n",
    "    except:\n",
    "        pass\n",
    "    file_path = os.path.join('.','images', category, basename(image_url))\n",
    "    with open(file_path, \"wb\") as f:\n",
    "        f.write(requests.get(image_url).content)\n",
    "    return file_path"
   ]
  },
  {
   "cell_type": "code",
   "execution_count": 31,
   "metadata": {},
   "outputs": [],
   "source": [
    "# Permite recorrer todas las url de los productos e ir obteniendo las imagenes\n",
    "def download_product_images(products):\n",
    "    sleep_time = SLEEP_TIME_BASE\n",
    "    sleep_time_inc = 0.1\n",
    "    sleep_time_max = SLEEP_TIME_BASE * 20\n",
    "    count_success = 0\n",
    "    for i, product in enumerate(products):\n",
    "        try:\n",
    "            product['image_url_dataset'] = download_image(product['category'], product['image_url'])\n",
    "            count_success += 1\n",
    "            if sleep_time > SLEEP_TIME_BASE and count_success > 10:\n",
    "                sleep_time -= sleep_time_inc\n",
    "                print('accelerating speed to: ' + str(sleep_time))\n",
    "        except:\n",
    "            product['image_url_dataset'] = product['image_url']\n",
    "            sleep_time += sleep_time_inc\n",
    "            print('slowing down to: ' + str(sleep_time))\n",
    "            count_success = 0\n",
    "            if sleep_time > sleep_time_max:\n",
    "                sleep_time = sleep_time_max\n",
    "        if i % 50 == 0:\n",
    "            print(i)\n",
    "        time.sleep(sleep_time)\n",
    "    return products"
   ]
  },
  {
   "cell_type": "code",
   "execution_count": 66,
   "metadata": {},
   "outputs": [],
   "source": [
    "# Dada una lista de productos con sus caracteristicas -> genera un nuevo documento CSV con todos los productos\n",
    "def to_csv(products, name_csv):\n",
    "    with open(name_csv, 'w', newline='') as csvfile:\n",
    "        fieldnames = ['timestamp','company_name','name', 'brand_name', 'category','product_number', 'price', 'score', 'image_url','reviews', 'image_url_dataset']\n",
    "        productwriter = csv.DictWriter(csvfile, delimiter=',', fieldnames=fieldnames)\n",
    "        productwriter.writeheader()\n",
    "        for product in products:\n",
    "            productwriter.writerow(product)"
   ]
  },
  {
   "cell_type": "markdown",
   "metadata": {},
   "source": [
    "## Obtención del dataset de productos de PCComponentes por partes"
   ]
  },
  {
   "cell_type": "code",
   "execution_count": 24,
   "metadata": {},
   "outputs": [],
   "source": [
    "# Preparación del entorno para poder recorrer la tienda\n",
    "driver = webdriver.Chrome()\n",
    "prepare_environtment(driver, 'https://www.pccomponentes.com/')"
   ]
  },
  {
   "cell_type": "code",
   "execution_count": 13,
   "metadata": {},
   "outputs": [],
   "source": [
    "# Obtención de todas las url de productos desde el sitemap\n",
    "sitemap_products = change_url(driver, 'https://www.pccomponentes.com/sitemap_articles_components.xml')\n",
    "urls_clean = list(map(lambda x: x.text, sitemap_products.findAll(\"loc\",text=True)))"
   ]
  },
  {
   "cell_type": "code",
   "execution_count": null,
   "metadata": {},
   "outputs": [],
   "source": [
    "n = 500\n",
    "for i in range(0,len(urls_clean), n):\n",
    "    # Obtención de todas las características de los productos de la tienda por chunks\n",
    "    products_chunk = obtain_all_products(driver, urls_clean[i:i+n])\n",
    "    # Seleccionar solo aquellos productos que interesan para el dataset\n",
    "    products_chunk_filtered = filter_products_by_categories(products_chunk)\n",
    "    # Descargar la imagen principal de cada producto de la tienda del chunk\n",
    "    products_chunk_images = download_product_images(products_chunk_filtered)\n",
    "    # Generación parcial del dataset\n",
    "    to_csv(products_chunk_images, 'pccomponentes_products_' + str(i) + '_' + str(i+n) + '.csv')"
   ]
  },
  {
   "cell_type": "markdown",
   "metadata": {},
   "source": [
    "## Fusión de todos los csv parciales en uno completo"
   ]
  },
  {
   "cell_type": "code",
   "execution_count": 2,
   "metadata": {},
   "outputs": [],
   "source": [
    "os.chdir(\"./\")\n",
    "all_filenames = [i for i in glob.glob('*.{}'.format('csv'))]\n",
    "combined_csv = pd.concat([pd.read_csv(f) for f in all_filenames ])\n",
    "combined_csv.to_csv( \"dataset_pccomponentes.csv\", index=False, encoding='utf-8')"
   ]
  },
  {
   "cell_type": "code",
   "execution_count": null,
   "metadata": {},
   "outputs": [],
   "source": []
  }
 ],
 "metadata": {
  "kernelspec": {
   "display_name": "Python 3",
   "language": "python",
   "name": "python3"
  },
  "language_info": {
   "codemirror_mode": {
    "name": "ipython",
    "version": 3
   },
   "file_extension": ".py",
   "mimetype": "text/x-python",
   "name": "python",
   "nbconvert_exporter": "python",
   "pygments_lexer": "ipython3",
   "version": "3.7.4"
  }
 },
 "nbformat": 4,
 "nbformat_minor": 4
}
