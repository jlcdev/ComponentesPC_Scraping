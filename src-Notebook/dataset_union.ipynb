{
 "cells": [
  {
   "cell_type": "code",
   "execution_count": 4,
   "metadata": {},
   "outputs": [],
   "source": [
    "import csv\n",
    "import os"
   ]
  },
  {
   "cell_type": "code",
   "execution_count": 8,
   "metadata": {},
   "outputs": [],
   "source": [
    "os.chdir(\"./\")\n",
    "fieldnames = ['timestamp','company_name','name', 'brand_name', 'category','product_number', 'price', 'score', 'image_url','image_url_dataset','reviews']\n",
    "with open('./datasets/dataset_pccomponentes.csv', mode='r', encoding='utf-8') as f1:\n",
    "    with open('./datasets/dataset_pcbox.csv', mode='r', encoding='utf-8') as f2:\n",
    "        products_f1 = [dict(zip(fieldnames,p)) for i,p in enumerate(csv.reader(f1)) if i!=0]\n",
    "        products_f2 = [dict(zip(fieldnames,p)) for i,p in enumerate(csv.reader(f2)) if i!=0]\n",
    "        products = products_f1 + products_f2\n",
    "        with open('./datasets/dataset.csv', 'w', newline='') as outfile:\n",
    "            productwriter = csv.DictWriter(outfile, delimiter=',', fieldnames=fieldnames)\n",
    "            productwriter.writeheader()\n",
    "            for product in products:\n",
    "                productwriter.writerow(product)"
   ]
  },
  {
   "cell_type": "code",
   "execution_count": null,
   "metadata": {},
   "outputs": [],
   "source": []
  }
 ],
 "metadata": {
  "kernelspec": {
   "display_name": "Python 3",
   "language": "python",
   "name": "python3"
  },
  "language_info": {
   "codemirror_mode": {
    "name": "ipython",
    "version": 3
   },
   "file_extension": ".py",
   "mimetype": "text/x-python",
   "name": "python",
   "nbconvert_exporter": "python",
   "pygments_lexer": "ipython3",
   "version": "3.7.4"
  }
 },
 "nbformat": 4,
 "nbformat_minor": 4
}
